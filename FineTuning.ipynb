{
 "cells": [
  {
   "cell_type": "markdown",
   "id": "4240bc4a-345e-48f3-8902-6b4e221f34e0",
   "metadata": {},
   "source": [
    "# Config"
   ]
  },
  {
   "cell_type": "code",
   "execution_count": 50,
   "id": "f5d32200-ee85-4b5b-bc8b-82676c1c9eda",
   "metadata": {},
   "outputs": [],
   "source": [
    "import os\n",
    "import copy\n",
    "import numpy as np\n",
    "import pandas as pd\n",
    "import matplotlib.pyplot as plt\n",
    "from sklearn.model_selection import train_test_split\n",
    "from tqdm.notebook import tqdm\n",
    "\n",
    "import warnings\n",
    "warnings.simplefilter('ignore')\n",
    "\n",
    "import utils\n",
    "import evals\n",
    "import model\n",
    "import dataloader\n",
    "import loss\n",
    "\n",
    "import importlib\n",
    "importlib.reload(utils)\n",
    "importlib.reload(evals)\n",
    "importlib.reload(model)\n",
    "importlib.reload(loss)\n",
    "importlib.reload(dataloader)\n",
    "\n",
    "from utils import *\n",
    "from evals import *\n",
    "from model import *\n",
    "from loss import *\n",
    "from dataloader import *"
   ]
  },
  {
   "cell_type": "code",
   "execution_count": 5,
   "id": "e83c46ed-bc13-497f-aac2-85caa473dc80",
   "metadata": {},
   "outputs": [],
   "source": [
    "import random\n",
    "import numpy as np\n",
    "\n",
    "import torch\n",
    "import torch.nn as nn\n",
    "import torch.optim as optim\n",
    "import torch.nn.functional as F\n",
    "\n",
    "# リソースの指定（CPU/GPU）\n",
    "device = torch.device(\"cuda:0\" if torch.cuda.is_available() else \"cpu\")\n",
    "\n",
    "# 乱数シード固定（再現性の担保）\n",
    "def fix_seed(seed):\n",
    "    # random\n",
    "    random.seed(seed)\n",
    "    # numpy\n",
    "    np.random.seed(seed)\n",
    "    # pytorch\n",
    "    torch.manual_seed(seed)\n",
    "    torch.cuda.manual_seed_all(seed)\n",
    "    torch.backends.cudnn.deterministic = True\n",
    "    torch.backends.cudnn.benchmark = False\n",
    "\n",
    "# seed を固定\n",
    "seed = 42\n",
    "fix_seed(seed)\n",
    "\n",
    "# データローダーのサブプロセスの乱数seedが固定\n",
    "def worker_init_fn(worker_id):\n",
    "    np.random.seed(np.random.get_state()[1][0] + worker_id)"
   ]
  },
  {
   "cell_type": "code",
   "execution_count": 44,
   "id": "717df810-ec9c-4116-8aae-3c0c07e7a61d",
   "metadata": {},
   "outputs": [],
   "source": [
    "# API key\n",
    "os.environ[\"OPENAI_API_KEY\"] = \"sk-xxx\"\n",
    "\n",
    "from langchain_openai import OpenAIEmbeddings\n",
    "embedding_model = OpenAIEmbeddings(model = 'text-embedding-ada-002')"
   ]
  },
  {
   "cell_type": "code",
   "execution_count": 7,
   "id": "51d367b7-3b4f-4b9e-9a48-6879e0b55651",
   "metadata": {},
   "outputs": [],
   "source": [
    "# !pip install graphviz\n",
    "# !pip install torchview\n",
    "# !pip install torchviz"
   ]
  },
  {
   "cell_type": "markdown",
   "id": "2096d563-1c8e-4ed3-ae4d-8b49a7fcf390",
   "metadata": {
    "jp-MarkdownHeadingCollapsed": true
   },
   "source": [
    "# Data"
   ]
  },
  {
   "cell_type": "markdown",
   "id": "5ef4bb7d-0806-4fef-bcbc-aa0a5f3d3965",
   "metadata": {},
   "source": [
    "<font size=\"4\">**Dataset(Amebaブログのヘルプページ FAQ)**</font>"
   ]
  },
  {
   "cell_type": "code",
   "execution_count": 8,
   "id": "86ac1f6f-9533-47cd-977c-e3a02bec484e",
   "metadata": {},
   "outputs": [
    {
     "data": {
      "text/plain": [
       "((2942, 4), (461, 2))"
      ]
     },
     "execution_count": 8,
     "metadata": {},
     "output_type": "execute_result"
    }
   ],
   "source": [
    "# 読み込み\n",
    "df_qa = pd.read_csv(\"./dataset/Abema/QA.csv\",index_col=0)\n",
    "df_ref = pd.read_csv(\"./dataset/Abema/Reference.csv\",index_col=0)\n",
    "df_qa.shape,df_ref.shape"
   ]
  },
  {
   "cell_type": "code",
   "execution_count": 9,
   "id": "4599514a-53db-416d-8f9b-745efa62d7a4",
   "metadata": {},
   "outputs": [],
   "source": [
    "# 100問に限定\n",
    "# df_qa_sub = df_qa.sample(100,random_state=0).sort_values(\"ID\")\n",
    "# df_qa.shape,df_ref.shape"
   ]
  },
  {
   "cell_type": "code",
   "execution_count": 10,
   "id": "2825010c-266d-4102-a8b5-a2f01e7794b3",
   "metadata": {},
   "outputs": [
    {
     "data": {
      "text/plain": [
       "((2742, 4), (100, 4), (100, 4))"
      ]
     },
     "execution_count": 10,
     "metadata": {},
     "output_type": "execute_result"
    }
   ],
   "source": [
    "# 学習,検証,テストデータ\n",
    "from sklearn.model_selection import train_test_split\n",
    "df_train, df_test  = train_test_split(df_qa, test_size=100, random_state=42, shuffle=True)\n",
    "df_train, df_valid = train_test_split(df_train, test_size=100, random_state=42, shuffle=True)\n",
    "df_train.shape,df_valid.shape,df_test.shape"
   ]
  },
  {
   "cell_type": "code",
   "execution_count": 11,
   "id": "626691bf-a352-4d0b-8ace-ad76fe49795d",
   "metadata": {},
   "outputs": [
    {
     "data": {
      "text/html": [
       "<div>\n",
       "<style scoped>\n",
       "    .dataframe tbody tr th:only-of-type {\n",
       "        vertical-align: middle;\n",
       "    }\n",
       "\n",
       "    .dataframe tbody tr th {\n",
       "        vertical-align: top;\n",
       "    }\n",
       "\n",
       "    .dataframe thead th {\n",
       "        text-align: right;\n",
       "    }\n",
       "</style>\n",
       "<table border=\"1\" class=\"dataframe\">\n",
       "  <thead>\n",
       "    <tr style=\"text-align: right;\">\n",
       "      <th></th>\n",
       "      <th>ID</th>\n",
       "      <th>Query</th>\n",
       "      <th>difficulty</th>\n",
       "      <th>dataset</th>\n",
       "    </tr>\n",
       "  </thead>\n",
       "  <tbody>\n",
       "    <tr>\n",
       "      <th>0</th>\n",
       "      <td>faq_001</td>\n",
       "      <td>パスワードを忘れた</td>\n",
       "      <td>easy</td>\n",
       "      <td>train</td>\n",
       "    </tr>\n",
       "  </tbody>\n",
       "</table>\n",
       "</div>"
      ],
      "text/plain": [
       "        ID      Query difficulty dataset\n",
       "0  faq_001  パスワードを忘れた       easy   train"
      ]
     },
     "execution_count": 11,
     "metadata": {},
     "output_type": "execute_result"
    }
   ],
   "source": [
    "df_qa.head(1)"
   ]
  },
  {
   "cell_type": "markdown",
   "id": "3e0f93de-fc9e-45b8-aae1-55a6f2c8078f",
   "metadata": {},
   "source": [
    "<font size=\"4\">**Text2Document**</font>"
   ]
  },
  {
   "cell_type": "code",
   "execution_count": 12,
   "id": "9b6256b1-ffbd-4e74-abf4-95e2c7605b05",
   "metadata": {},
   "outputs": [
    {
     "data": {
      "text/plain": [
       "461"
      ]
     },
     "execution_count": 12,
     "metadata": {},
     "output_type": "execute_result"
    }
   ],
   "source": [
    "from langchain.schema.document import Document\n",
    "documents = []\n",
    "for i in range(len(df_ref)):\n",
    "    data = df_ref.iloc[i]\n",
    "    doc = Document(page_content=data[\"Reference\"],metadata={\"chunk_id\":data[\"ID\"]})\n",
    "    documents.append(doc)\n",
    "len(documents)"
   ]
  },
  {
   "cell_type": "code",
   "execution_count": 13,
   "id": "fd482a26-1261-48d2-8b70-c21fbbe87a9f",
   "metadata": {},
   "outputs": [
    {
     "data": {
      "text/plain": [
       "Document(page_content='Amebaで障害が発生している場合は、スタッフブログやX(旧Twitter)でお知らせします。\\n該当の現象が障害に起因し発生しているかを、上記お知らせにてご確認ください。\\n障害以外の理由で該当の事象が発生している場合は、以下の項目についてご確認・ご対応をお願いいたします。\\nなお、記事投稿に失敗する際は、画面上にエラーが表示されるかと思いますのでご確認いただければと思います。\\n１．推奨利用環境と端末・OSバージョンの確認をお願いします\\nご利用の環境が推奨利用環境であるかをご確認の上、OSやアプリのアップデートをご検討ください。\\n・Amebaアプリアプリのアップデート方法\\n・利用しているOSの確認方法、アップデート方法\\n・Amebaアプリのバージョン確認方法\\n２．アプリのキャッシュ・データ削除と再起動をお願いします\\nキャッシュとデータの削除を行うとアプリ保存記事（アプリ内に保存されている記事）は削除されます。「下書き（非公開）」または「公開」をした上で操作をお試しください。\\n・アプリのキャッシュ・データの削除方法\\n３．アプリの再インストールをお試しください\\n再インストールをしても、退会手続きを行わない限りは同じアカウントでログインができます。 \\n・アプリを再インストールする\\n※Android 5.0未満をご利用の場合、あらたにAmebaアプリのインストールができません。\\n※再インストールを行うとアプリ保存記事（アプリ内に保存されている記事）は削除されます。「下書き（非公開）」または「公開」をした上で操作をお試しください。', metadata={'chunk_id': 'faq_000'})"
      ]
     },
     "execution_count": 13,
     "metadata": {},
     "output_type": "execute_result"
    }
   ],
   "source": [
    "documents[0]"
   ]
  },
  {
   "cell_type": "markdown",
   "id": "099df8da-2deb-4788-bf84-2cc349564145",
   "metadata": {
    "jp-MarkdownHeadingCollapsed": true
   },
   "source": [
    "# Original FaissDB "
   ]
  },
  {
   "cell_type": "code",
   "execution_count": 14,
   "id": "5a7ba46a-e5b4-445a-a843-5967a31b9dac",
   "metadata": {},
   "outputs": [],
   "source": [
    "# DBの読み込み\n",
    "faiss_db = FAISS.load_local(\"index/Abema/DB00-Original\",embedding_model,allow_dangerous_deserialization=True)"
   ]
  },
  {
   "cell_type": "code",
   "execution_count": 16,
   "id": "c96c66f3-65f0-4c86-bc1c-5a89c3a6ef94",
   "metadata": {
    "collapsed": true,
    "jupyter": {
     "outputs_hidden": true
    }
   },
   "outputs": [
    {
     "name": "stderr",
     "output_type": "stream",
     "text": [
      "  0%|                                                   | 0/100 [00:02<?, ?it/s]\n"
     ]
    },
    {
     "ename": "KeyboardInterrupt",
     "evalue": "",
     "output_type": "error",
     "traceback": [
      "\u001b[0;31m---------------------------------------------------------------------------\u001b[0m",
      "\u001b[0;31mKeyboardInterrupt\u001b[0m                         Traceback (most recent call last)",
      "Cell \u001b[0;32mIn[16], line 2\u001b[0m\n\u001b[1;32m      1\u001b[0m \u001b[38;5;66;03m# 評価\u001b[39;00m\n\u001b[0;32m----> 2\u001b[0m df_ret \u001b[38;5;241m=\u001b[39m \u001b[43mexecute_evaluation\u001b[49m\u001b[43m(\u001b[49m\u001b[43mfaiss_db\u001b[49m\u001b[43m,\u001b[49m\u001b[43mdf_test\u001b[49m\u001b[43m,\u001b[49m\u001b[43mDOC_NUM\u001b[49m\u001b[38;5;241;43m=\u001b[39;49m\u001b[38;5;28;43mlen\u001b[39;49m\u001b[43m(\u001b[49m\u001b[43mdf_ref\u001b[49m\u001b[43m)\u001b[49m\u001b[43m)\u001b[49m\n",
      "File \u001b[0;32m~/Documents/GitHub/finetuning-adapter-for-embedding/evals.py:81\u001b[0m, in \u001b[0;36mexecute_evaluation\u001b[0;34m(faiss_db, df, DOC_NUM)\u001b[0m\n\u001b[1;32m     80\u001b[0m \u001b[38;5;28;01mdef\u001b[39;00m \u001b[38;5;21mexecute_evaluation\u001b[39m(faiss_db,df,DOC_NUM):\n\u001b[0;32m---> 81\u001b[0m     faiss_similarity_result \u001b[38;5;241m=\u001b[39m \u001b[43mevaluate\u001b[49m\u001b[43m(\u001b[49m\n\u001b[1;32m     82\u001b[0m \u001b[43m        \u001b[49m\u001b[43mquery_list\u001b[49m\u001b[43m \u001b[49m\u001b[38;5;241;43m=\u001b[39;49m\u001b[43m \u001b[49m\u001b[38;5;28;43mlist\u001b[39;49m\u001b[43m(\u001b[49m\u001b[38;5;28;43mzip\u001b[39;49m\u001b[43m(\u001b[49m\u001b[43mdf\u001b[49m\u001b[43m[\u001b[49m\u001b[38;5;124;43m\"\u001b[39;49m\u001b[38;5;124;43mQuery\u001b[39;49m\u001b[38;5;124;43m\"\u001b[39;49m\u001b[43m]\u001b[49m\u001b[38;5;241;43m.\u001b[39;49m\u001b[43mvalues\u001b[49m\u001b[43m,\u001b[49m\u001b[43m \u001b[49m\u001b[43mdf\u001b[49m\u001b[43m[\u001b[49m\u001b[38;5;124;43m\"\u001b[39;49m\u001b[38;5;124;43mID\u001b[39;49m\u001b[38;5;124;43m\"\u001b[39;49m\u001b[43m]\u001b[49m\u001b[38;5;241;43m.\u001b[39;49m\u001b[43mvalues\u001b[49m\u001b[43m)\u001b[49m\u001b[43m)\u001b[49m\u001b[43m,\u001b[49m\n\u001b[1;32m     83\u001b[0m \u001b[43m        \u001b[49m\u001b[43msearch_func\u001b[49m\u001b[38;5;241;43m=\u001b[39;49m\u001b[43m \u001b[49m\u001b[38;5;28;43;01mlambda\u001b[39;49;00m\u001b[43m \u001b[49m\u001b[43mq\u001b[49m\u001b[43m:\u001b[49m\u001b[43m \u001b[49m\u001b[43mfaiss_db\u001b[49m\u001b[38;5;241;43m.\u001b[39;49m\u001b[43msimilarity_search\u001b[49m\u001b[43m(\u001b[49m\u001b[43mq\u001b[49m\u001b[43m,\u001b[49m\u001b[43m \u001b[49m\u001b[43mk\u001b[49m\u001b[38;5;241;43m=\u001b[39;49m\u001b[43mDOC_NUM\u001b[49m\u001b[43m)\u001b[49m\u001b[43m,\u001b[49m\n\u001b[1;32m     84\u001b[0m \u001b[43m        \u001b[49m\u001b[43mDOC_NUM\u001b[49m\u001b[38;5;241;43m=\u001b[39;49m\u001b[43mDOC_NUM\u001b[49m\n\u001b[1;32m     85\u001b[0m \u001b[43m    \u001b[49m\u001b[43m)\u001b[49m\n\u001b[1;32m     86\u001b[0m     \u001b[38;5;28;01mreturn\u001b[39;00m faiss_similarity_result\n",
      "File \u001b[0;32m~/Documents/GitHub/finetuning-adapter-for-embedding/evals.py:40\u001b[0m, in \u001b[0;36mevaluate\u001b[0;34m(query_list, search_func, DOC_NUM)\u001b[0m\n\u001b[1;32m     38\u001b[0m result_list \u001b[38;5;241m=\u001b[39m []\n\u001b[1;32m     39\u001b[0m \u001b[38;5;28;01mfor\u001b[39;00m query, chunk_id \u001b[38;5;129;01min\u001b[39;00m tqdm(query_list):\n\u001b[0;32m---> 40\u001b[0m     rank_result \u001b[38;5;241m=\u001b[39m \u001b[43mget_rank\u001b[49m\u001b[43m(\u001b[49m\u001b[43mquery\u001b[49m\u001b[43m,\u001b[49m\u001b[43m \u001b[49m\u001b[43msearch_func\u001b[49m\u001b[38;5;241;43m=\u001b[39;49m\u001b[43msearch_func\u001b[49m\u001b[43m)\u001b[49m\n\u001b[1;32m     41\u001b[0m     \u001b[38;5;28;01mif\u001b[39;00m chunk_id \u001b[38;5;129;01mnot\u001b[39;00m \u001b[38;5;129;01min\u001b[39;00m rank_result:\n\u001b[1;32m     42\u001b[0m         rank \u001b[38;5;241m=\u001b[39m DOC_NUM \u001b[38;5;241m+\u001b[39m \u001b[38;5;241m1\u001b[39m\n",
      "File \u001b[0;32m~/Documents/GitHub/finetuning-adapter-for-embedding/evals.py:29\u001b[0m, in \u001b[0;36mget_rank\u001b[0;34m(query, search_func)\u001b[0m\n\u001b[1;32m     28\u001b[0m \u001b[38;5;28;01mdef\u001b[39;00m \u001b[38;5;21mget_rank\u001b[39m(query, search_func):\n\u001b[0;32m---> 29\u001b[0m     results \u001b[38;5;241m=\u001b[39m \u001b[43msearch_func\u001b[49m\u001b[43m(\u001b[49m\u001b[43mquery\u001b[49m\u001b[43m)\u001b[49m\n\u001b[1;32m     30\u001b[0m     chunk_id_list \u001b[38;5;241m=\u001b[39m []\n\u001b[1;32m     31\u001b[0m     \u001b[38;5;28;01mfor\u001b[39;00m doc \u001b[38;5;129;01min\u001b[39;00m results:\n\u001b[1;32m     32\u001b[0m         \u001b[38;5;66;03m# aid = metadata[documents.index(doc.page_content)][\"chunk_id\"]\u001b[39;00m\n",
      "File \u001b[0;32m~/Documents/GitHub/finetuning-adapter-for-embedding/evals.py:83\u001b[0m, in \u001b[0;36mexecute_evaluation.<locals>.<lambda>\u001b[0;34m(q)\u001b[0m\n\u001b[1;32m     80\u001b[0m \u001b[38;5;28;01mdef\u001b[39;00m \u001b[38;5;21mexecute_evaluation\u001b[39m(faiss_db,df,DOC_NUM):\n\u001b[1;32m     81\u001b[0m     faiss_similarity_result \u001b[38;5;241m=\u001b[39m evaluate(\n\u001b[1;32m     82\u001b[0m         query_list \u001b[38;5;241m=\u001b[39m \u001b[38;5;28mlist\u001b[39m(\u001b[38;5;28mzip\u001b[39m(df[\u001b[38;5;124m\"\u001b[39m\u001b[38;5;124mQuery\u001b[39m\u001b[38;5;124m\"\u001b[39m]\u001b[38;5;241m.\u001b[39mvalues, df[\u001b[38;5;124m\"\u001b[39m\u001b[38;5;124mID\u001b[39m\u001b[38;5;124m\"\u001b[39m]\u001b[38;5;241m.\u001b[39mvalues)),\n\u001b[0;32m---> 83\u001b[0m         search_func\u001b[38;5;241m=\u001b[39m \u001b[38;5;28;01mlambda\u001b[39;00m q: \u001b[43mfaiss_db\u001b[49m\u001b[38;5;241;43m.\u001b[39;49m\u001b[43msimilarity_search\u001b[49m\u001b[43m(\u001b[49m\u001b[43mq\u001b[49m\u001b[43m,\u001b[49m\u001b[43m \u001b[49m\u001b[43mk\u001b[49m\u001b[38;5;241;43m=\u001b[39;49m\u001b[43mDOC_NUM\u001b[49m\u001b[43m)\u001b[49m,\n\u001b[1;32m     84\u001b[0m         DOC_NUM\u001b[38;5;241m=\u001b[39mDOC_NUM\n\u001b[1;32m     85\u001b[0m     )\n\u001b[1;32m     86\u001b[0m     \u001b[38;5;28;01mreturn\u001b[39;00m faiss_similarity_result\n",
      "File \u001b[0;32m~/Documents/GitHub/finetuning-adapter-for-embedding/venv/lib/python3.10/site-packages/langchain_community/vectorstores/faiss.py:530\u001b[0m, in \u001b[0;36mFAISS.similarity_search\u001b[0;34m(self, query, k, filter, fetch_k, **kwargs)\u001b[0m\n\u001b[1;32m    510\u001b[0m \u001b[38;5;28;01mdef\u001b[39;00m \u001b[38;5;21msimilarity_search\u001b[39m(\n\u001b[1;32m    511\u001b[0m     \u001b[38;5;28mself\u001b[39m,\n\u001b[1;32m    512\u001b[0m     query: \u001b[38;5;28mstr\u001b[39m,\n\u001b[0;32m   (...)\u001b[0m\n\u001b[1;32m    516\u001b[0m     \u001b[38;5;241m*\u001b[39m\u001b[38;5;241m*\u001b[39mkwargs: Any,\n\u001b[1;32m    517\u001b[0m ) \u001b[38;5;241m-\u001b[39m\u001b[38;5;241m>\u001b[39m List[Document]:\n\u001b[1;32m    518\u001b[0m \u001b[38;5;250m    \u001b[39m\u001b[38;5;124;03m\"\"\"Return docs most similar to query.\u001b[39;00m\n\u001b[1;32m    519\u001b[0m \n\u001b[1;32m    520\u001b[0m \u001b[38;5;124;03m    Args:\u001b[39;00m\n\u001b[0;32m   (...)\u001b[0m\n\u001b[1;32m    528\u001b[0m \u001b[38;5;124;03m        List of Documents most similar to the query.\u001b[39;00m\n\u001b[1;32m    529\u001b[0m \u001b[38;5;124;03m    \"\"\"\u001b[39;00m\n\u001b[0;32m--> 530\u001b[0m     docs_and_scores \u001b[38;5;241m=\u001b[39m \u001b[38;5;28;43mself\u001b[39;49m\u001b[38;5;241;43m.\u001b[39;49m\u001b[43msimilarity_search_with_score\u001b[49m\u001b[43m(\u001b[49m\n\u001b[1;32m    531\u001b[0m \u001b[43m        \u001b[49m\u001b[43mquery\u001b[49m\u001b[43m,\u001b[49m\u001b[43m \u001b[49m\u001b[43mk\u001b[49m\u001b[43m,\u001b[49m\u001b[43m \u001b[49m\u001b[38;5;28;43mfilter\u001b[39;49m\u001b[38;5;241;43m=\u001b[39;49m\u001b[38;5;28;43mfilter\u001b[39;49m\u001b[43m,\u001b[49m\u001b[43m \u001b[49m\u001b[43mfetch_k\u001b[49m\u001b[38;5;241;43m=\u001b[39;49m\u001b[43mfetch_k\u001b[49m\u001b[43m,\u001b[49m\u001b[43m \u001b[49m\u001b[38;5;241;43m*\u001b[39;49m\u001b[38;5;241;43m*\u001b[39;49m\u001b[43mkwargs\u001b[49m\n\u001b[1;32m    532\u001b[0m \u001b[43m    \u001b[49m\u001b[43m)\u001b[49m\n\u001b[1;32m    533\u001b[0m     \u001b[38;5;28;01mreturn\u001b[39;00m [doc \u001b[38;5;28;01mfor\u001b[39;00m doc, _ \u001b[38;5;129;01min\u001b[39;00m docs_and_scores]\n",
      "File \u001b[0;32m~/Documents/GitHub/finetuning-adapter-for-embedding/venv/lib/python3.10/site-packages/langchain_community/vectorstores/faiss.py:402\u001b[0m, in \u001b[0;36mFAISS.similarity_search_with_score\u001b[0;34m(self, query, k, filter, fetch_k, **kwargs)\u001b[0m\n\u001b[1;32m    378\u001b[0m \u001b[38;5;28;01mdef\u001b[39;00m \u001b[38;5;21msimilarity_search_with_score\u001b[39m(\n\u001b[1;32m    379\u001b[0m     \u001b[38;5;28mself\u001b[39m,\n\u001b[1;32m    380\u001b[0m     query: \u001b[38;5;28mstr\u001b[39m,\n\u001b[0;32m   (...)\u001b[0m\n\u001b[1;32m    384\u001b[0m     \u001b[38;5;241m*\u001b[39m\u001b[38;5;241m*\u001b[39mkwargs: Any,\n\u001b[1;32m    385\u001b[0m ) \u001b[38;5;241m-\u001b[39m\u001b[38;5;241m>\u001b[39m List[Tuple[Document, \u001b[38;5;28mfloat\u001b[39m]]:\n\u001b[1;32m    386\u001b[0m \u001b[38;5;250m    \u001b[39m\u001b[38;5;124;03m\"\"\"Return docs most similar to query.\u001b[39;00m\n\u001b[1;32m    387\u001b[0m \n\u001b[1;32m    388\u001b[0m \u001b[38;5;124;03m    Args:\u001b[39;00m\n\u001b[0;32m   (...)\u001b[0m\n\u001b[1;32m    400\u001b[0m \u001b[38;5;124;03m        L2 distance in float. Lower score represents more similarity.\u001b[39;00m\n\u001b[1;32m    401\u001b[0m \u001b[38;5;124;03m    \"\"\"\u001b[39;00m\n\u001b[0;32m--> 402\u001b[0m     embedding \u001b[38;5;241m=\u001b[39m \u001b[38;5;28;43mself\u001b[39;49m\u001b[38;5;241;43m.\u001b[39;49m\u001b[43m_embed_query\u001b[49m\u001b[43m(\u001b[49m\u001b[43mquery\u001b[49m\u001b[43m)\u001b[49m\n\u001b[1;32m    403\u001b[0m     docs \u001b[38;5;241m=\u001b[39m \u001b[38;5;28mself\u001b[39m\u001b[38;5;241m.\u001b[39msimilarity_search_with_score_by_vector(\n\u001b[1;32m    404\u001b[0m         embedding,\n\u001b[1;32m    405\u001b[0m         k,\n\u001b[0;32m   (...)\u001b[0m\n\u001b[1;32m    408\u001b[0m         \u001b[38;5;241m*\u001b[39m\u001b[38;5;241m*\u001b[39mkwargs,\n\u001b[1;32m    409\u001b[0m     )\n\u001b[1;32m    410\u001b[0m     \u001b[38;5;28;01mreturn\u001b[39;00m docs\n",
      "File \u001b[0;32m~/Documents/GitHub/finetuning-adapter-for-embedding/venv/lib/python3.10/site-packages/langchain_community/vectorstores/faiss.py:154\u001b[0m, in \u001b[0;36mFAISS._embed_query\u001b[0;34m(self, text)\u001b[0m\n\u001b[1;32m    152\u001b[0m \u001b[38;5;28;01mdef\u001b[39;00m \u001b[38;5;21m_embed_query\u001b[39m(\u001b[38;5;28mself\u001b[39m, text: \u001b[38;5;28mstr\u001b[39m) \u001b[38;5;241m-\u001b[39m\u001b[38;5;241m>\u001b[39m List[\u001b[38;5;28mfloat\u001b[39m]:\n\u001b[1;32m    153\u001b[0m     \u001b[38;5;28;01mif\u001b[39;00m \u001b[38;5;28misinstance\u001b[39m(\u001b[38;5;28mself\u001b[39m\u001b[38;5;241m.\u001b[39membedding_function, Embeddings):\n\u001b[0;32m--> 154\u001b[0m         \u001b[38;5;28;01mreturn\u001b[39;00m \u001b[38;5;28;43mself\u001b[39;49m\u001b[38;5;241;43m.\u001b[39;49m\u001b[43membedding_function\u001b[49m\u001b[38;5;241;43m.\u001b[39;49m\u001b[43membed_query\u001b[49m\u001b[43m(\u001b[49m\u001b[43mtext\u001b[49m\u001b[43m)\u001b[49m\n\u001b[1;32m    155\u001b[0m     \u001b[38;5;28;01melse\u001b[39;00m:\n\u001b[1;32m    156\u001b[0m         \u001b[38;5;28;01mreturn\u001b[39;00m \u001b[38;5;28mself\u001b[39m\u001b[38;5;241m.\u001b[39membedding_function(text)\n",
      "File \u001b[0;32m~/Documents/GitHub/finetuning-adapter-for-embedding/venv/lib/python3.10/site-packages/langchain_openai/embeddings/base.py:573\u001b[0m, in \u001b[0;36mOpenAIEmbeddings.embed_query\u001b[0;34m(self, text)\u001b[0m\n\u001b[1;32m    564\u001b[0m \u001b[38;5;28;01mdef\u001b[39;00m \u001b[38;5;21membed_query\u001b[39m(\u001b[38;5;28mself\u001b[39m, text: \u001b[38;5;28mstr\u001b[39m) \u001b[38;5;241m-\u001b[39m\u001b[38;5;241m>\u001b[39m List[\u001b[38;5;28mfloat\u001b[39m]:\n\u001b[1;32m    565\u001b[0m \u001b[38;5;250m    \u001b[39m\u001b[38;5;124;03m\"\"\"Call out to OpenAI's embedding endpoint for embedding query text.\u001b[39;00m\n\u001b[1;32m    566\u001b[0m \n\u001b[1;32m    567\u001b[0m \u001b[38;5;124;03m    Args:\u001b[39;00m\n\u001b[0;32m   (...)\u001b[0m\n\u001b[1;32m    571\u001b[0m \u001b[38;5;124;03m        Embedding for the text.\u001b[39;00m\n\u001b[1;32m    572\u001b[0m \u001b[38;5;124;03m    \"\"\"\u001b[39;00m\n\u001b[0;32m--> 573\u001b[0m     \u001b[38;5;28;01mreturn\u001b[39;00m \u001b[38;5;28;43mself\u001b[39;49m\u001b[38;5;241;43m.\u001b[39;49m\u001b[43membed_documents\u001b[49m\u001b[43m(\u001b[49m\u001b[43m[\u001b[49m\u001b[43mtext\u001b[49m\u001b[43m]\u001b[49m\u001b[43m)\u001b[49m[\u001b[38;5;241m0\u001b[39m]\n",
      "File \u001b[0;32m~/Documents/GitHub/finetuning-adapter-for-embedding/venv/lib/python3.10/site-packages/langchain_openai/embeddings/base.py:532\u001b[0m, in \u001b[0;36mOpenAIEmbeddings.embed_documents\u001b[0;34m(self, texts, chunk_size)\u001b[0m\n\u001b[1;32m    529\u001b[0m \u001b[38;5;66;03m# NOTE: to keep things simple, we assume the list may contain texts longer\u001b[39;00m\n\u001b[1;32m    530\u001b[0m \u001b[38;5;66;03m#       than the maximum context and use length-safe embedding function.\u001b[39;00m\n\u001b[1;32m    531\u001b[0m engine \u001b[38;5;241m=\u001b[39m cast(\u001b[38;5;28mstr\u001b[39m, \u001b[38;5;28mself\u001b[39m\u001b[38;5;241m.\u001b[39mdeployment)\n\u001b[0;32m--> 532\u001b[0m \u001b[38;5;28;01mreturn\u001b[39;00m \u001b[38;5;28;43mself\u001b[39;49m\u001b[38;5;241;43m.\u001b[39;49m\u001b[43m_get_len_safe_embeddings\u001b[49m\u001b[43m(\u001b[49m\u001b[43mtexts\u001b[49m\u001b[43m,\u001b[49m\u001b[43m \u001b[49m\u001b[43mengine\u001b[49m\u001b[38;5;241;43m=\u001b[39;49m\u001b[43mengine\u001b[49m\u001b[43m)\u001b[49m\n",
      "File \u001b[0;32m~/Documents/GitHub/finetuning-adapter-for-embedding/venv/lib/python3.10/site-packages/langchain_openai/embeddings/base.py:303\u001b[0m, in \u001b[0;36mOpenAIEmbeddings._get_len_safe_embeddings\u001b[0;34m(self, texts, engine, chunk_size)\u001b[0m\n\u001b[1;32m    301\u001b[0m \u001b[38;5;28;01melse\u001b[39;00m:\n\u001b[1;32m    302\u001b[0m     \u001b[38;5;28;01mtry\u001b[39;00m:\n\u001b[0;32m--> 303\u001b[0m         encoding \u001b[38;5;241m=\u001b[39m \u001b[43mtiktoken\u001b[49m\u001b[38;5;241;43m.\u001b[39;49m\u001b[43mencoding_for_model\u001b[49m\u001b[43m(\u001b[49m\u001b[43mmodel_name\u001b[49m\u001b[43m)\u001b[49m\n\u001b[1;32m    304\u001b[0m     \u001b[38;5;28;01mexcept\u001b[39;00m \u001b[38;5;167;01mKeyError\u001b[39;00m:\n\u001b[1;32m    305\u001b[0m         encoding \u001b[38;5;241m=\u001b[39m tiktoken\u001b[38;5;241m.\u001b[39mget_encoding(\u001b[38;5;124m\"\u001b[39m\u001b[38;5;124mcl100k_base\u001b[39m\u001b[38;5;124m\"\u001b[39m)\n",
      "File \u001b[0;32m~/Documents/GitHub/finetuning-adapter-for-embedding/venv/lib/python3.10/site-packages/tiktoken/model.py:101\u001b[0m, in \u001b[0;36mencoding_for_model\u001b[0;34m(model_name)\u001b[0m\n\u001b[1;32m     96\u001b[0m \u001b[38;5;28;01mdef\u001b[39;00m \u001b[38;5;21mencoding_for_model\u001b[39m(model_name: \u001b[38;5;28mstr\u001b[39m) \u001b[38;5;241m-\u001b[39m\u001b[38;5;241m>\u001b[39m Encoding:\n\u001b[1;32m     97\u001b[0m \u001b[38;5;250m    \u001b[39m\u001b[38;5;124;03m\"\"\"Returns the encoding used by a model.\u001b[39;00m\n\u001b[1;32m     98\u001b[0m \n\u001b[1;32m     99\u001b[0m \u001b[38;5;124;03m    Raises a KeyError if the model name is not recognised.\u001b[39;00m\n\u001b[1;32m    100\u001b[0m \u001b[38;5;124;03m    \"\"\"\u001b[39;00m\n\u001b[0;32m--> 101\u001b[0m     \u001b[38;5;28;01mreturn\u001b[39;00m \u001b[43mget_encoding\u001b[49m\u001b[43m(\u001b[49m\u001b[43mencoding_name_for_model\u001b[49m\u001b[43m(\u001b[49m\u001b[43mmodel_name\u001b[49m\u001b[43m)\u001b[49m\u001b[43m)\u001b[49m\n",
      "File \u001b[0;32m~/Documents/GitHub/finetuning-adapter-for-embedding/venv/lib/python3.10/site-packages/tiktoken/registry.py:73\u001b[0m, in \u001b[0;36mget_encoding\u001b[0;34m(encoding_name)\u001b[0m\n\u001b[1;32m     68\u001b[0m     \u001b[38;5;28;01mraise\u001b[39;00m \u001b[38;5;167;01mValueError\u001b[39;00m(\n\u001b[1;32m     69\u001b[0m         \u001b[38;5;124mf\u001b[39m\u001b[38;5;124m\"\u001b[39m\u001b[38;5;124mUnknown encoding \u001b[39m\u001b[38;5;132;01m{\u001b[39;00mencoding_name\u001b[38;5;132;01m}\u001b[39;00m\u001b[38;5;124m. Plugins found: \u001b[39m\u001b[38;5;132;01m{\u001b[39;00m_available_plugin_modules()\u001b[38;5;132;01m}\u001b[39;00m\u001b[38;5;124m\"\u001b[39m\n\u001b[1;32m     70\u001b[0m     )\n\u001b[1;32m     72\u001b[0m constructor \u001b[38;5;241m=\u001b[39m ENCODING_CONSTRUCTORS[encoding_name]\n\u001b[0;32m---> 73\u001b[0m enc \u001b[38;5;241m=\u001b[39m \u001b[43mEncoding\u001b[49m\u001b[43m(\u001b[49m\u001b[38;5;241;43m*\u001b[39;49m\u001b[38;5;241;43m*\u001b[39;49m\u001b[43mconstructor\u001b[49m\u001b[43m(\u001b[49m\u001b[43m)\u001b[49m\u001b[43m)\u001b[49m\n\u001b[1;32m     74\u001b[0m ENCODINGS[encoding_name] \u001b[38;5;241m=\u001b[39m enc\n\u001b[1;32m     75\u001b[0m \u001b[38;5;28;01mreturn\u001b[39;00m enc\n",
      "File \u001b[0;32m~/Documents/GitHub/finetuning-adapter-for-embedding/venv/lib/python3.10/site-packages/tiktoken/core.py:50\u001b[0m, in \u001b[0;36mEncoding.__init__\u001b[0;34m(self, name, pat_str, mergeable_ranks, special_tokens, explicit_n_vocab)\u001b[0m\n\u001b[1;32m     47\u001b[0m     \u001b[38;5;28;01massert\u001b[39;00m \u001b[38;5;28mlen\u001b[39m(mergeable_ranks) \u001b[38;5;241m+\u001b[39m \u001b[38;5;28mlen\u001b[39m(special_tokens) \u001b[38;5;241m==\u001b[39m explicit_n_vocab\n\u001b[1;32m     48\u001b[0m     \u001b[38;5;28;01massert\u001b[39;00m \u001b[38;5;28mself\u001b[39m\u001b[38;5;241m.\u001b[39mmax_token_value \u001b[38;5;241m==\u001b[39m explicit_n_vocab \u001b[38;5;241m-\u001b[39m \u001b[38;5;241m1\u001b[39m\n\u001b[0;32m---> 50\u001b[0m \u001b[38;5;28mself\u001b[39m\u001b[38;5;241m.\u001b[39m_core_bpe \u001b[38;5;241m=\u001b[39m \u001b[43m_tiktoken\u001b[49m\u001b[38;5;241;43m.\u001b[39;49m\u001b[43mCoreBPE\u001b[49m\u001b[43m(\u001b[49m\u001b[43mmergeable_ranks\u001b[49m\u001b[43m,\u001b[49m\u001b[43m \u001b[49m\u001b[43mspecial_tokens\u001b[49m\u001b[43m,\u001b[49m\u001b[43m \u001b[49m\u001b[43mpat_str\u001b[49m\u001b[43m)\u001b[49m\n",
      "\u001b[0;31mKeyboardInterrupt\u001b[0m: "
     ]
    }
   ],
   "source": [
    "# 評価\n",
    "df_ret = execute_evaluation(faiss_db,df_test,DOC_NUM=len(df_ref))"
   ]
  },
  {
   "cell_type": "code",
   "execution_count": 15,
   "id": "1fdb2297-6851-4062-b10f-8d38d9bc6fb9",
   "metadata": {
    "collapsed": true,
    "jupyter": {
     "outputs_hidden": true
    }
   },
   "outputs": [
    {
     "ename": "NameError",
     "evalue": "name 'df_ret' is not defined",
     "output_type": "error",
     "traceback": [
      "\u001b[0;31m---------------------------------------------------------------------------\u001b[0m",
      "\u001b[0;31mNameError\u001b[0m                                 Traceback (most recent call last)",
      "Cell \u001b[0;32mIn[15], line 3\u001b[0m\n\u001b[1;32m      1\u001b[0m \u001b[38;5;66;03m# 一覧\u001b[39;00m\n\u001b[1;32m      2\u001b[0m df_ret_table \u001b[38;5;241m=\u001b[39m pd\u001b[38;5;241m.\u001b[39mDataFrame({\n\u001b[0;32m----> 3\u001b[0m     \u001b[38;5;124m\"\u001b[39m\u001b[38;5;124mRecall@1\u001b[39m\u001b[38;5;124m\"\u001b[39m:[\u001b[43mdf_ret\u001b[49m\u001b[38;5;241m.\u001b[39mrecall_at_1],\n\u001b[1;32m      4\u001b[0m     \u001b[38;5;124m\"\u001b[39m\u001b[38;5;124mRecall@3\u001b[39m\u001b[38;5;124m\"\u001b[39m:[df_ret\u001b[38;5;241m.\u001b[39mrecall_at_3],\n\u001b[1;32m      5\u001b[0m     \u001b[38;5;124m\"\u001b[39m\u001b[38;5;124mRecall@5\u001b[39m\u001b[38;5;124m\"\u001b[39m:[df_ret\u001b[38;5;241m.\u001b[39mrecall_at_5],\n\u001b[1;32m      6\u001b[0m     \u001b[38;5;124m\"\u001b[39m\u001b[38;5;124mRecall@10\u001b[39m\u001b[38;5;124m\"\u001b[39m:[df_ret\u001b[38;5;241m.\u001b[39mrecall_at_10],\n\u001b[1;32m      7\u001b[0m     \u001b[38;5;124m\"\u001b[39m\u001b[38;5;124mRecall@20\u001b[39m\u001b[38;5;124m\"\u001b[39m:[df_ret\u001b[38;5;241m.\u001b[39mrecall_at_20],\n\u001b[1;32m      8\u001b[0m     \u001b[38;5;124m\"\u001b[39m\u001b[38;5;124mRecall@30\u001b[39m\u001b[38;5;124m\"\u001b[39m:[df_ret\u001b[38;5;241m.\u001b[39mrecall_at_30],\n\u001b[1;32m      9\u001b[0m     \n\u001b[1;32m     10\u001b[0m })\n\u001b[1;32m     11\u001b[0m df_ret_table\n",
      "\u001b[0;31mNameError\u001b[0m: name 'df_ret' is not defined"
     ]
    }
   ],
   "source": [
    "# 一覧\n",
    "df_ret_table = pd.DataFrame({\n",
    "    \"Recall@1\":[df_ret.recall_at_1],\n",
    "    \"Recall@3\":[df_ret.recall_at_3],\n",
    "    \"Recall@5\":[df_ret.recall_at_5],\n",
    "    \"Recall@10\":[df_ret.recall_at_10],\n",
    "    \"Recall@20\":[df_ret.recall_at_20],\n",
    "    \"Recall@30\":[df_ret.recall_at_30],\n",
    "    \n",
    "})\n",
    "df_ret_table"
   ]
  },
  {
   "cell_type": "markdown",
   "id": "14889027-b289-4c4a-a73c-abb9ff661766",
   "metadata": {
    "jp-MarkdownHeadingCollapsed": true
   },
   "source": [
    "# Dataset / DataLoader"
   ]
  },
  {
   "cell_type": "markdown",
   "id": "45a279e1-57f9-4193-b5f3-0a674a02f6a3",
   "metadata": {},
   "source": [
    "### Dataset"
   ]
  },
  {
   "cell_type": "code",
   "execution_count": 16,
   "id": "ff661abb-d202-4de0-9ac8-3890e80f7345",
   "metadata": {},
   "outputs": [
    {
     "data": {
      "text/plain": [
       "461"
      ]
     },
     "execution_count": 16,
     "metadata": {},
     "output_type": "execute_result"
    }
   ],
   "source": [
    "# ベクトルの取り出し\n",
    "vectors = get_vectors_from_FaissDB(faiss_db)\n",
    "assert vectors.shape[0] == df_ref.shape[0]\n",
    "len(vectors)"
   ]
  },
  {
   "cell_type": "code",
   "execution_count": 17,
   "id": "29b0abc4-e6e9-4046-a812-ce51df675408",
   "metadata": {},
   "outputs": [
    {
     "data": {
      "text/plain": [
       "461"
      ]
     },
     "execution_count": 17,
     "metadata": {},
     "output_type": "execute_result"
    }
   ],
   "source": [
    "# チャンクIDとベクトルの辞書\n",
    "doc_id_vec = {i:v for i,v in zip(df_ref.ID,vectors)}\n",
    "len(doc_id_vec)"
   ]
  },
  {
   "cell_type": "code",
   "execution_count": 14,
   "id": "8c9ad79a-2ffd-43e9-a073-a7216e3b9884",
   "metadata": {},
   "outputs": [],
   "source": [
    "# クエリのベクトル化 (API消費)\n",
    "# X_train = np.array(embedding_model.embed_documents(df_train[\"Query\"]))\n",
    "# X_valid = np.array(embedding_model.embed_documents(df_valid[\"Query\"]))\n",
    "# X_test  = np.array(embedding_model.embed_documents(df_test[\"Query\"]))"
   ]
  },
  {
   "cell_type": "code",
   "execution_count": null,
   "id": "9c08efb3-a86b-49a7-b4f2-97fbea718d7b",
   "metadata": {},
   "outputs": [],
   "source": [
    "# 保存\n",
    "# np.savez('./dataset/Abema/query_vectors_dataset',X_train,X_valid,X_test)"
   ]
  },
  {
   "cell_type": "code",
   "execution_count": 18,
   "id": "3d5084db-d322-4c92-bb25-cc59ec39f586",
   "metadata": {},
   "outputs": [],
   "source": [
    "# 読み込み\n",
    "npz = np.load('./dataset/Abema/query_vectors_dataset.npz')\n",
    "# print(npz.files) # => ['arr_0', 'arr_1', 'arr_2']\n",
    "X_train = npz[\"arr_0\"]\n",
    "X_valid = npz[\"arr_1\"]\n",
    "X_test  = npz[\"arr_2\"]"
   ]
  },
  {
   "cell_type": "code",
   "execution_count": 19,
   "id": "b638b22d-926e-4406-afc9-d40859235819",
   "metadata": {},
   "outputs": [],
   "source": [
    "# チャンクのベクトル\n",
    "Y_train = np.array([doc_id_vec[k] for k in df_train[\"ID\"].values])\n",
    "Y_valid = np.array([doc_id_vec[k] for k in df_valid[\"ID\"].values])\n",
    "Y_test  = np.array([doc_id_vec[k] for k in df_test[\"ID\"].values])"
   ]
  },
  {
   "cell_type": "code",
   "execution_count": 20,
   "id": "1d121f42-b3e7-41c8-a5c1-a61860f73760",
   "metadata": {},
   "outputs": [],
   "source": [
    "assert len(X_train)==len(Y_train)\n",
    "assert len(X_valid)==len(Y_valid)\n",
    "assert len(X_test)==len(Y_test)"
   ]
  },
  {
   "cell_type": "markdown",
   "id": "39990a93-126a-4d11-8188-23029e7045ec",
   "metadata": {},
   "source": [
    "### DataLoader"
   ]
  },
  {
   "cell_type": "code",
   "execution_count": 24,
   "id": "79e59f27-684c-45d2-b4fa-df949b24ef2b",
   "metadata": {},
   "outputs": [],
   "source": [
    "# NNモデル用\n",
    "# dataset_train = EmbeddingVectorsDataset(X_train,Y_train,expand_dim=True)\n",
    "# dataset_valid = EmbeddingVectorsDataset(X_valid,Y_valid,expand_dim=True)\n",
    "# dataset_test  = EmbeddingVectorsDataset(X_test,Y_test,expand_dim=True)\n",
    "\n",
    "# Convolutional Model用 (N,W)=>(N,D,W)\n",
    "X_train_ = X_train.reshape(X_train.shape[0],-1,X_train.shape[1])\n",
    "X_valid_ = X_valid.reshape(X_valid.shape[0],-1,X_valid.shape[1])\n",
    "X_test_  = X_test.reshape(X_test.shape[0],-1,X_test.shape[1])\n",
    "\n",
    "Y_train_ = Y_train.reshape(Y_train.shape[0],-1,Y_train.shape[1])\n",
    "Y_valid_ = Y_valid.reshape(Y_valid.shape[0],-1,Y_valid.shape[1])\n",
    "Y_test_  = Y_test.reshape(Y_test.shape[0],-1,Y_test.shape[1])\n",
    "\n",
    "dataset_train_conv = EmbeddingVectorsDataset(X_train_,Y_train_)\n",
    "dataset_valid_conv = EmbeddingVectorsDataset(X_valid_,Y_valid_)\n",
    "dataset_test_conv  = EmbeddingVectorsDataset(X_test_,Y_test_)"
   ]
  },
  {
   "cell_type": "code",
   "execution_count": 25,
   "id": "e801444b-db1e-4b28-b921-80983bbd3f01",
   "metadata": {},
   "outputs": [],
   "source": [
    "from torch.utils.data import DataLoader\n",
    "\n",
    "dataloader_train = DataLoader(\n",
    "    dataset=dataset_train_conv,\n",
    "    batch_size=64,\n",
    "    shuffle=True,\n",
    "    # num_workers=2,   # 高速化\n",
    "    # pin_memory=True, # 高速化\n",
    "    # worker_init_fn=worker_init_fn\n",
    ")\n",
    "\n",
    "dataloader_valid = DataLoader(\n",
    "    dataset=dataset_valid_conv,\n",
    "    batch_size=64,\n",
    "    shuffle=True\n",
    ")\n",
    "\n",
    "dataloader_test = DataLoader(\n",
    "    dataset=dataset_test_conv,\n",
    "    batch_size=64,\n",
    "    shuffle=True\n",
    ")"
   ]
  },
  {
   "cell_type": "markdown",
   "id": "e55252d6-bc35-48e3-9ad8-04463c48053a",
   "metadata": {
    "jp-MarkdownHeadingCollapsed": true
   },
   "source": [
    "# Model"
   ]
  },
  {
   "cell_type": "markdown",
   "id": "bd212ac1-9acb-4812-8f1b-7d5c0459b087",
   "metadata": {},
   "source": [
    "**参考**\n",
    "- https://qiita.com/takubb/items/7d45ae701390912c7629\n",
    "- https://dacon.io/en/codeshare/5508"
   ]
  },
  {
   "cell_type": "code",
   "execution_count": 26,
   "id": "07834ee9-648a-4e01-852e-1828961dcd14",
   "metadata": {},
   "outputs": [],
   "source": [
    "# PyTorch：(N, C, H, W)\n",
    "adapter = Conv1dAutoencoder().to(device)\n",
    "# 推論時は単一データの予測を行うため、BatchNormは利用しないモデルとしている。"
   ]
  },
  {
   "cell_type": "code",
   "execution_count": 28,
   "id": "37664999-318a-4da5-812e-050365a80f0f",
   "metadata": {},
   "outputs": [
    {
     "data": {
      "text/plain": [
       "==========================================================================================\n",
       "Layer (type:depth-idx)                   Output Shape              Param #\n",
       "==========================================================================================\n",
       "Conv1dAutoencoder                        [32, 1, 1536]             --\n",
       "├─Sequential: 1-1                        [32, 128, 144]            --\n",
       "│    └─Conv1d: 2-1                       [32, 64, 492]             4,160\n",
       "│    └─ReLU: 2-2                         [32, 64, 492]             --\n",
       "│    └─Conv1d: 2-3                       [32, 128, 144]            524,416\n",
       "│    └─ReLU: 2-4                         [32, 128, 144]            --\n",
       "├─Sequential: 1-2                        [32, 1, 1536]             --\n",
       "│    └─ConvTranspose1d: 2-5              [32, 64, 492]             524,352\n",
       "│    └─ReLU: 2-6                         [32, 64, 492]             --\n",
       "│    └─ConvTranspose1d: 2-7              [32, 1, 1536]             4,097\n",
       "==========================================================================================\n",
       "Total params: 1,057,025\n",
       "Trainable params: 1,057,025\n",
       "Non-trainable params: 0\n",
       "Total mult-adds (G): 10.94\n",
       "==========================================================================================\n",
       "Input size (MB): 0.20\n",
       "Forward/backward pass size (MB): 21.23\n",
       "Params size (MB): 4.23\n",
       "Estimated Total Size (MB): 25.66\n",
       "=========================================================================================="
      ]
     },
     "execution_count": 28,
     "metadata": {},
     "output_type": "execute_result"
    }
   ],
   "source": [
    "# Model summary\n",
    "from torchinfo import summary\n",
    "summary(adapter, input_size=(32,1,1536))"
   ]
  },
  {
   "cell_type": "code",
   "execution_count": 29,
   "id": "f6f53d43-9be7-453b-b169-ea5933d6d9bc",
   "metadata": {},
   "outputs": [
    {
     "data": {
      "image/svg+xml": [
       "<?xml version=\"1.0\" encoding=\"UTF-8\" standalone=\"no\"?>\n",
       "<!DOCTYPE svg PUBLIC \"-//W3C//DTD SVG 1.1//EN\"\n",
       " \"http://www.w3.org/Graphics/SVG/1.1/DTD/svg11.dtd\">\n",
       "<!-- Generated by graphviz version 9.0.0 (20230911.1827)\n",
       " -->\n",
       "<!-- Title: model Pages: 1 -->\n",
       "<svg width=\"213pt\" height=\"655pt\"\n",
       " viewBox=\"0.00 0.00 213.00 655.00\" xmlns=\"http://www.w3.org/2000/svg\" xmlns:xlink=\"http://www.w3.org/1999/xlink\">\n",
       "<g id=\"graph0\" class=\"graph\" transform=\"scale(1 1) rotate(0) translate(4 651)\">\n",
       "<title>model</title>\n",
       "<polygon fill=\"white\" stroke=\"none\" points=\"-4,4 -4,-651 209,-651 209,4 -4,4\"/>\n",
       "<!-- 0 -->\n",
       "<g id=\"node1\" class=\"node\">\n",
       "<title>0</title>\n",
       "<polygon fill=\"lightyellow\" stroke=\"none\" points=\"165.38,-647 39.62,-647 39.62,-614.5 165.38,-614.5 165.38,-647\"/>\n",
       "<polygon fill=\"none\" stroke=\"black\" points=\"39.62,-614.5 39.62,-647 100.62,-647 100.62,-614.5 39.62,-614.5\"/>\n",
       "<text text-anchor=\"start\" x=\"44.62\" y=\"-632.5\" font-family=\"Linux libertine\" font-size=\"10.00\">input&#45;tensor</text>\n",
       "<text text-anchor=\"start\" x=\"54\" y=\"-621.25\" font-family=\"Linux libertine\" font-size=\"10.00\">depth:0</text>\n",
       "<polygon fill=\"none\" stroke=\"black\" points=\"100.62,-614.5 100.62,-647 165.38,-647 165.38,-614.5 100.62,-614.5\"/>\n",
       "<text text-anchor=\"start\" x=\"105.62\" y=\"-626.88\" font-family=\"Linux libertine\" font-size=\"10.00\">(32, 1, 1536)</text>\n",
       "</g>\n",
       "<!-- 1 -->\n",
       "<g id=\"node2\" class=\"node\">\n",
       "<title>1</title>\n",
       "<polygon fill=\"#c1ffc1\" stroke=\"none\" points=\"179,-578.5 26,-578.5 26,-536.5 179,-536.5 179,-578.5\"/>\n",
       "<polygon fill=\"none\" stroke=\"black\" points=\"26,-536.5 26,-578.5 69,-578.5 69,-536.5 26,-536.5\"/>\n",
       "<text text-anchor=\"start\" x=\"30.62\" y=\"-559.25\" font-family=\"Linux libertine\" font-size=\"10.00\">Conv1d</text>\n",
       "<text text-anchor=\"start\" x=\"31.38\" y=\"-548\" font-family=\"Linux libertine\" font-size=\"10.00\">depth:2</text>\n",
       "<polygon fill=\"none\" stroke=\"black\" points=\"69,-557.5 69,-578.5 112,-578.5 112,-557.5 69,-557.5\"/>\n",
       "<text text-anchor=\"start\" x=\"78.5\" y=\"-564\" font-family=\"Linux libertine\" font-size=\"10.00\">input:</text>\n",
       "<polygon fill=\"none\" stroke=\"black\" points=\"112,-557.5 112,-578.5 179,-578.5 179,-557.5 112,-557.5\"/>\n",
       "<text text-anchor=\"start\" x=\"116.62\" y=\"-564\" font-family=\"Linux libertine\" font-size=\"10.00\">(32, 1, 1536) </text>\n",
       "<polygon fill=\"none\" stroke=\"black\" points=\"69,-536.5 69,-557.5 112,-557.5 112,-536.5 69,-536.5\"/>\n",
       "<text text-anchor=\"start\" x=\"74\" y=\"-543\" font-family=\"Linux libertine\" font-size=\"10.00\">output: </text>\n",
       "<polygon fill=\"none\" stroke=\"black\" points=\"112,-536.5 112,-557.5 179,-557.5 179,-536.5 112,-536.5\"/>\n",
       "<text text-anchor=\"start\" x=\"116.62\" y=\"-543\" font-family=\"Linux libertine\" font-size=\"10.00\">(32, 64, 492) </text>\n",
       "</g>\n",
       "<!-- 0&#45;&gt;1 -->\n",
       "<g id=\"edge1\" class=\"edge\">\n",
       "<title>0&#45;&gt;1</title>\n",
       "<path fill=\"none\" stroke=\"black\" d=\"M102.5,-614.64C102.5,-607.39 102.5,-598.43 102.5,-589.81\"/>\n",
       "<polygon fill=\"black\" stroke=\"black\" points=\"106,-589.97 102.5,-579.97 99,-589.97 106,-589.97\"/>\n",
       "</g>\n",
       "<!-- 2 -->\n",
       "<g id=\"node3\" class=\"node\">\n",
       "<title>2</title>\n",
       "<polygon fill=\"#c1ffc1\" stroke=\"none\" points=\"178.5,-500.5 26.5,-500.5 26.5,-458.5 178.5,-458.5 178.5,-500.5\"/>\n",
       "<polygon fill=\"none\" stroke=\"black\" points=\"26.5,-458.5 26.5,-500.5 68.5,-500.5 68.5,-458.5 26.5,-458.5\"/>\n",
       "<text text-anchor=\"start\" x=\"34.75\" y=\"-481.25\" font-family=\"Linux libertine\" font-size=\"10.00\">ReLU</text>\n",
       "<text text-anchor=\"start\" x=\"31.38\" y=\"-470\" font-family=\"Linux libertine\" font-size=\"10.00\">depth:2</text>\n",
       "<polygon fill=\"none\" stroke=\"black\" points=\"68.5,-479.5 68.5,-500.5 111.5,-500.5 111.5,-479.5 68.5,-479.5\"/>\n",
       "<text text-anchor=\"start\" x=\"78\" y=\"-486\" font-family=\"Linux libertine\" font-size=\"10.00\">input:</text>\n",
       "<polygon fill=\"none\" stroke=\"black\" points=\"111.5,-479.5 111.5,-500.5 178.5,-500.5 178.5,-479.5 111.5,-479.5\"/>\n",
       "<text text-anchor=\"start\" x=\"116.12\" y=\"-486\" font-family=\"Linux libertine\" font-size=\"10.00\">(32, 64, 492) </text>\n",
       "<polygon fill=\"none\" stroke=\"black\" points=\"68.5,-458.5 68.5,-479.5 111.5,-479.5 111.5,-458.5 68.5,-458.5\"/>\n",
       "<text text-anchor=\"start\" x=\"73.5\" y=\"-465\" font-family=\"Linux libertine\" font-size=\"10.00\">output: </text>\n",
       "<polygon fill=\"none\" stroke=\"black\" points=\"111.5,-458.5 111.5,-479.5 178.5,-479.5 178.5,-458.5 111.5,-458.5\"/>\n",
       "<text text-anchor=\"start\" x=\"116.12\" y=\"-465\" font-family=\"Linux libertine\" font-size=\"10.00\">(32, 64, 492) </text>\n",
       "</g>\n",
       "<!-- 1&#45;&gt;2 -->\n",
       "<g id=\"edge2\" class=\"edge\">\n",
       "<title>1&#45;&gt;2</title>\n",
       "<path fill=\"none\" stroke=\"black\" d=\"M102.5,-536.53C102.5,-528.94 102.5,-520.1 102.5,-511.71\"/>\n",
       "<polygon fill=\"black\" stroke=\"black\" points=\"106,-511.85 102.5,-501.85 99,-511.85 106,-511.85\"/>\n",
       "</g>\n",
       "<!-- 3 -->\n",
       "<g id=\"node4\" class=\"node\">\n",
       "<title>3</title>\n",
       "<polygon fill=\"#c1ffc1\" stroke=\"none\" points=\"182,-422.5 23,-422.5 23,-380.5 182,-380.5 182,-422.5\"/>\n",
       "<polygon fill=\"none\" stroke=\"black\" points=\"23,-380.5 23,-422.5 66,-422.5 66,-380.5 23,-380.5\"/>\n",
       "<text text-anchor=\"start\" x=\"27.62\" y=\"-403.25\" font-family=\"Linux libertine\" font-size=\"10.00\">Conv1d</text>\n",
       "<text text-anchor=\"start\" x=\"28.38\" y=\"-392\" font-family=\"Linux libertine\" font-size=\"10.00\">depth:2</text>\n",
       "<polygon fill=\"none\" stroke=\"black\" points=\"66,-401.5 66,-422.5 109,-422.5 109,-401.5 66,-401.5\"/>\n",
       "<text text-anchor=\"start\" x=\"75.5\" y=\"-408\" font-family=\"Linux libertine\" font-size=\"10.00\">input:</text>\n",
       "<polygon fill=\"none\" stroke=\"black\" points=\"109,-401.5 109,-422.5 182,-422.5 182,-401.5 109,-401.5\"/>\n",
       "<text text-anchor=\"start\" x=\"116.62\" y=\"-408\" font-family=\"Linux libertine\" font-size=\"10.00\">(32, 64, 492) </text>\n",
       "<polygon fill=\"none\" stroke=\"black\" points=\"66,-380.5 66,-401.5 109,-401.5 109,-380.5 66,-380.5\"/>\n",
       "<text text-anchor=\"start\" x=\"71\" y=\"-387\" font-family=\"Linux libertine\" font-size=\"10.00\">output: </text>\n",
       "<polygon fill=\"none\" stroke=\"black\" points=\"109,-380.5 109,-401.5 182,-401.5 182,-380.5 109,-380.5\"/>\n",
       "<text text-anchor=\"start\" x=\"114\" y=\"-387\" font-family=\"Linux libertine\" font-size=\"10.00\">(32, 128, 144) </text>\n",
       "</g>\n",
       "<!-- 2&#45;&gt;3 -->\n",
       "<g id=\"edge3\" class=\"edge\">\n",
       "<title>2&#45;&gt;3</title>\n",
       "<path fill=\"none\" stroke=\"black\" d=\"M102.5,-458.53C102.5,-450.94 102.5,-442.1 102.5,-433.71\"/>\n",
       "<polygon fill=\"black\" stroke=\"black\" points=\"106,-433.85 102.5,-423.85 99,-433.85 106,-433.85\"/>\n",
       "</g>\n",
       "<!-- 4 -->\n",
       "<g id=\"node5\" class=\"node\">\n",
       "<title>4</title>\n",
       "<polygon fill=\"#c1ffc1\" stroke=\"none\" points=\"181.5,-344.5 23.5,-344.5 23.5,-302.5 181.5,-302.5 181.5,-344.5\"/>\n",
       "<polygon fill=\"none\" stroke=\"black\" points=\"23.5,-302.5 23.5,-344.5 65.5,-344.5 65.5,-302.5 23.5,-302.5\"/>\n",
       "<text text-anchor=\"start\" x=\"31.75\" y=\"-325.25\" font-family=\"Linux libertine\" font-size=\"10.00\">ReLU</text>\n",
       "<text text-anchor=\"start\" x=\"28.38\" y=\"-314\" font-family=\"Linux libertine\" font-size=\"10.00\">depth:2</text>\n",
       "<polygon fill=\"none\" stroke=\"black\" points=\"65.5,-323.5 65.5,-344.5 108.5,-344.5 108.5,-323.5 65.5,-323.5\"/>\n",
       "<text text-anchor=\"start\" x=\"75\" y=\"-330\" font-family=\"Linux libertine\" font-size=\"10.00\">input:</text>\n",
       "<polygon fill=\"none\" stroke=\"black\" points=\"108.5,-323.5 108.5,-344.5 181.5,-344.5 181.5,-323.5 108.5,-323.5\"/>\n",
       "<text text-anchor=\"start\" x=\"113.5\" y=\"-330\" font-family=\"Linux libertine\" font-size=\"10.00\">(32, 128, 144) </text>\n",
       "<polygon fill=\"none\" stroke=\"black\" points=\"65.5,-302.5 65.5,-323.5 108.5,-323.5 108.5,-302.5 65.5,-302.5\"/>\n",
       "<text text-anchor=\"start\" x=\"70.5\" y=\"-309\" font-family=\"Linux libertine\" font-size=\"10.00\">output: </text>\n",
       "<polygon fill=\"none\" stroke=\"black\" points=\"108.5,-302.5 108.5,-323.5 181.5,-323.5 181.5,-302.5 108.5,-302.5\"/>\n",
       "<text text-anchor=\"start\" x=\"113.5\" y=\"-309\" font-family=\"Linux libertine\" font-size=\"10.00\">(32, 128, 144) </text>\n",
       "</g>\n",
       "<!-- 3&#45;&gt;4 -->\n",
       "<g id=\"edge4\" class=\"edge\">\n",
       "<title>3&#45;&gt;4</title>\n",
       "<path fill=\"none\" stroke=\"black\" d=\"M102.5,-380.53C102.5,-372.94 102.5,-364.1 102.5,-355.71\"/>\n",
       "<polygon fill=\"black\" stroke=\"black\" points=\"106,-355.85 102.5,-345.85 99,-355.85 106,-355.85\"/>\n",
       "</g>\n",
       "<!-- 5 -->\n",
       "<g id=\"node6\" class=\"node\">\n",
       "<title>5</title>\n",
       "<polygon fill=\"#c1ffc1\" stroke=\"none\" points=\"205,-266.5 0,-266.5 0,-224.5 205,-224.5 205,-266.5\"/>\n",
       "<polygon fill=\"none\" stroke=\"black\" points=\"0,-224.5 0,-266.5 89,-266.5 89,-224.5 0,-224.5\"/>\n",
       "<text text-anchor=\"start\" x=\"4.75\" y=\"-247.25\" font-family=\"Linux libertine\" font-size=\"10.00\">ConvTranspose1d</text>\n",
       "<text text-anchor=\"start\" x=\"28.38\" y=\"-236\" font-family=\"Linux libertine\" font-size=\"10.00\">depth:2</text>\n",
       "<polygon fill=\"none\" stroke=\"black\" points=\"89,-245.5 89,-266.5 132,-266.5 132,-245.5 89,-245.5\"/>\n",
       "<text text-anchor=\"start\" x=\"98.5\" y=\"-252\" font-family=\"Linux libertine\" font-size=\"10.00\">input:</text>\n",
       "<polygon fill=\"none\" stroke=\"black\" points=\"132,-245.5 132,-266.5 205,-266.5 205,-245.5 132,-245.5\"/>\n",
       "<text text-anchor=\"start\" x=\"137\" y=\"-252\" font-family=\"Linux libertine\" font-size=\"10.00\">(32, 128, 144) </text>\n",
       "<polygon fill=\"none\" stroke=\"black\" points=\"89,-224.5 89,-245.5 132,-245.5 132,-224.5 89,-224.5\"/>\n",
       "<text text-anchor=\"start\" x=\"94\" y=\"-231\" font-family=\"Linux libertine\" font-size=\"10.00\">output: </text>\n",
       "<polygon fill=\"none\" stroke=\"black\" points=\"132,-224.5 132,-245.5 205,-245.5 205,-224.5 132,-224.5\"/>\n",
       "<text text-anchor=\"start\" x=\"139.62\" y=\"-231\" font-family=\"Linux libertine\" font-size=\"10.00\">(32, 64, 492) </text>\n",
       "</g>\n",
       "<!-- 4&#45;&gt;5 -->\n",
       "<g id=\"edge5\" class=\"edge\">\n",
       "<title>4&#45;&gt;5</title>\n",
       "<path fill=\"none\" stroke=\"black\" d=\"M102.5,-302.53C102.5,-294.94 102.5,-286.1 102.5,-277.71\"/>\n",
       "<polygon fill=\"black\" stroke=\"black\" points=\"106,-277.85 102.5,-267.85 99,-277.85 106,-277.85\"/>\n",
       "</g>\n",
       "<!-- 6 -->\n",
       "<g id=\"node7\" class=\"node\">\n",
       "<title>6</title>\n",
       "<polygon fill=\"#c1ffc1\" stroke=\"none\" points=\"178.5,-188.5 26.5,-188.5 26.5,-146.5 178.5,-146.5 178.5,-188.5\"/>\n",
       "<polygon fill=\"none\" stroke=\"black\" points=\"26.5,-146.5 26.5,-188.5 68.5,-188.5 68.5,-146.5 26.5,-146.5\"/>\n",
       "<text text-anchor=\"start\" x=\"34.75\" y=\"-169.25\" font-family=\"Linux libertine\" font-size=\"10.00\">ReLU</text>\n",
       "<text text-anchor=\"start\" x=\"31.38\" y=\"-158\" font-family=\"Linux libertine\" font-size=\"10.00\">depth:2</text>\n",
       "<polygon fill=\"none\" stroke=\"black\" points=\"68.5,-167.5 68.5,-188.5 111.5,-188.5 111.5,-167.5 68.5,-167.5\"/>\n",
       "<text text-anchor=\"start\" x=\"78\" y=\"-174\" font-family=\"Linux libertine\" font-size=\"10.00\">input:</text>\n",
       "<polygon fill=\"none\" stroke=\"black\" points=\"111.5,-167.5 111.5,-188.5 178.5,-188.5 178.5,-167.5 111.5,-167.5\"/>\n",
       "<text text-anchor=\"start\" x=\"116.12\" y=\"-174\" font-family=\"Linux libertine\" font-size=\"10.00\">(32, 64, 492) </text>\n",
       "<polygon fill=\"none\" stroke=\"black\" points=\"68.5,-146.5 68.5,-167.5 111.5,-167.5 111.5,-146.5 68.5,-146.5\"/>\n",
       "<text text-anchor=\"start\" x=\"73.5\" y=\"-153\" font-family=\"Linux libertine\" font-size=\"10.00\">output: </text>\n",
       "<polygon fill=\"none\" stroke=\"black\" points=\"111.5,-146.5 111.5,-167.5 178.5,-167.5 178.5,-146.5 111.5,-146.5\"/>\n",
       "<text text-anchor=\"start\" x=\"116.12\" y=\"-153\" font-family=\"Linux libertine\" font-size=\"10.00\">(32, 64, 492) </text>\n",
       "</g>\n",
       "<!-- 5&#45;&gt;6 -->\n",
       "<g id=\"edge6\" class=\"edge\">\n",
       "<title>5&#45;&gt;6</title>\n",
       "<path fill=\"none\" stroke=\"black\" d=\"M102.5,-224.53C102.5,-216.94 102.5,-208.1 102.5,-199.71\"/>\n",
       "<polygon fill=\"black\" stroke=\"black\" points=\"106,-199.85 102.5,-189.85 99,-199.85 106,-199.85\"/>\n",
       "</g>\n",
       "<!-- 7 -->\n",
       "<g id=\"node8\" class=\"node\">\n",
       "<title>7</title>\n",
       "<polygon fill=\"#c1ffc1\" stroke=\"none\" points=\"202,-110.5 3,-110.5 3,-68.5 202,-68.5 202,-110.5\"/>\n",
       "<polygon fill=\"none\" stroke=\"black\" points=\"3,-68.5 3,-110.5 92,-110.5 92,-68.5 3,-68.5\"/>\n",
       "<text text-anchor=\"start\" x=\"7.75\" y=\"-91.25\" font-family=\"Linux libertine\" font-size=\"10.00\">ConvTranspose1d</text>\n",
       "<text text-anchor=\"start\" x=\"31.38\" y=\"-80\" font-family=\"Linux libertine\" font-size=\"10.00\">depth:2</text>\n",
       "<polygon fill=\"none\" stroke=\"black\" points=\"92,-89.5 92,-110.5 135,-110.5 135,-89.5 92,-89.5\"/>\n",
       "<text text-anchor=\"start\" x=\"101.5\" y=\"-96\" font-family=\"Linux libertine\" font-size=\"10.00\">input:</text>\n",
       "<polygon fill=\"none\" stroke=\"black\" points=\"135,-89.5 135,-110.5 202,-110.5 202,-89.5 135,-89.5\"/>\n",
       "<text text-anchor=\"start\" x=\"139.62\" y=\"-96\" font-family=\"Linux libertine\" font-size=\"10.00\">(32, 64, 492) </text>\n",
       "<polygon fill=\"none\" stroke=\"black\" points=\"92,-68.5 92,-89.5 135,-89.5 135,-68.5 92,-68.5\"/>\n",
       "<text text-anchor=\"start\" x=\"97\" y=\"-75\" font-family=\"Linux libertine\" font-size=\"10.00\">output: </text>\n",
       "<polygon fill=\"none\" stroke=\"black\" points=\"135,-68.5 135,-89.5 202,-89.5 202,-68.5 135,-68.5\"/>\n",
       "<text text-anchor=\"start\" x=\"139.62\" y=\"-75\" font-family=\"Linux libertine\" font-size=\"10.00\">(32, 1, 1536) </text>\n",
       "</g>\n",
       "<!-- 6&#45;&gt;7 -->\n",
       "<g id=\"edge7\" class=\"edge\">\n",
       "<title>6&#45;&gt;7</title>\n",
       "<path fill=\"none\" stroke=\"black\" d=\"M102.5,-146.53C102.5,-138.94 102.5,-130.1 102.5,-121.71\"/>\n",
       "<polygon fill=\"black\" stroke=\"black\" points=\"106,-121.85 102.5,-111.85 99,-121.85 106,-121.85\"/>\n",
       "</g>\n",
       "<!-- 8 -->\n",
       "<g id=\"node9\" class=\"node\">\n",
       "<title>8</title>\n",
       "<polygon fill=\"lightyellow\" stroke=\"none\" points=\"168.38,-32.5 36.62,-32.5 36.62,0 168.38,0 168.38,-32.5\"/>\n",
       "<polygon fill=\"none\" stroke=\"black\" points=\"36.62,0 36.62,-32.5 103.62,-32.5 103.62,0 36.62,0\"/>\n",
       "<text text-anchor=\"start\" x=\"41.62\" y=\"-18\" font-family=\"Linux libertine\" font-size=\"10.00\">output&#45;tensor</text>\n",
       "<text text-anchor=\"start\" x=\"54\" y=\"-6.75\" font-family=\"Linux libertine\" font-size=\"10.00\">depth:0</text>\n",
       "<polygon fill=\"none\" stroke=\"black\" points=\"103.62,0 103.62,-32.5 168.38,-32.5 168.38,0 103.62,0\"/>\n",
       "<text text-anchor=\"start\" x=\"108.62\" y=\"-12.38\" font-family=\"Linux libertine\" font-size=\"10.00\">(32, 1, 1536)</text>\n",
       "</g>\n",
       "<!-- 7&#45;&gt;8 -->\n",
       "<g id=\"edge8\" class=\"edge\">\n",
       "<title>7&#45;&gt;8</title>\n",
       "<path fill=\"none\" stroke=\"black\" d=\"M102.5,-68.65C102.5,-60.91 102.5,-51.91 102.5,-43.63\"/>\n",
       "<polygon fill=\"black\" stroke=\"black\" points=\"106,-43.76 102.5,-33.76 99,-43.76 106,-43.76\"/>\n",
       "</g>\n",
       "</g>\n",
       "</svg>\n"
      ],
      "text/plain": [
       "<graphviz.graphs.Digraph at 0x1357d7be0>"
      ]
     },
     "execution_count": 29,
     "metadata": {},
     "output_type": "execute_result"
    }
   ],
   "source": [
    "from torchview import draw_graph\n",
    "model_graph = draw_graph(adapter, input_size=(32,1,1536))\n",
    "model_graph.visual_graph"
   ]
  },
  {
   "cell_type": "markdown",
   "id": "884823af-c392-42ac-aad0-5353bce37c82",
   "metadata": {
    "jp-MarkdownHeadingCollapsed": true
   },
   "source": [
    "# Loss"
   ]
  },
  {
   "cell_type": "code",
   "execution_count": 32,
   "id": "b2453ede-0439-4887-b8b0-408190020578",
   "metadata": {},
   "outputs": [],
   "source": [
    "# Loss Fucntion\n",
    "# criteria_loss = nn.MSELoss()\n",
    "# criteria_loss = nn.BCEWithLogitsLoss()\n",
    "criteria_loss = Weighted_Loss(alpha=0.8)\n",
    "\n",
    "# Evaluation Metrics\n",
    "criteria_eval = nn.CosineEmbeddingLoss(margin=0)"
   ]
  },
  {
   "cell_type": "markdown",
   "id": "3d3178f2-d368-4d60-a5b3-bb9f22df8b79",
   "metadata": {
    "jp-MarkdownHeadingCollapsed": true
   },
   "source": [
    "# Train"
   ]
  },
  {
   "cell_type": "code",
   "execution_count": 33,
   "id": "11378e62-e53b-4bae-9afc-287cabbc8e5f",
   "metadata": {},
   "outputs": [],
   "source": [
    "from torch.optim.lr_scheduler import CosineAnnealingLR,StepLR,ReduceLROnPlateau\n",
    "\n",
    "# Optimizer\n",
    "# optimizer = optim.SGD(adapter.parameters(), lr=0.001)\n",
    "# optimizer = optim.Adam(adapter.parameters(), lr=0.001)\n",
    "optimizer = optim.Adam(adapter.parameters(), lr=0.001, weight_decay=1e-5)\n",
    "\n",
    "# Callbacks\n",
    "# scheduler = ReduceLROnPlateau(optimizer, 'min', patience=10, factor=0.8, min_lr=1e-8) # Using ReduceLROnPlateau schedule"
   ]
  },
  {
   "cell_type": "code",
   "execution_count": 34,
   "id": "8ddb3e2e-f463-408b-bc2f-c2f160defe09",
   "metadata": {},
   "outputs": [],
   "source": [
    "# モデル訓練関数\n",
    "def train(model, train_loader):\n",
    "    \n",
    "    # Train loop ----------------------------\n",
    "    model.train()\n",
    "    train_batch_loss = []\n",
    "    train_batch_eval = []\n",
    "    # avg_loss = 0.\n",
    "    for x, y in train_loader:\n",
    "        # GPUへの転送\n",
    "        x, y = x.to(device), y.to(device)\n",
    "        \n",
    "        # 1. 勾配リセット\n",
    "        optimizer.zero_grad()\n",
    "        # 2. 推論\n",
    "        output = model(x)\n",
    "        # 3. 誤差計算\n",
    "        loss   = criteria_loss(output, y)\n",
    "        # metric = criteria_eval(output,y,torch.ones(output.shape[0]))\n",
    "        metric = criteria_eval(output.squeeze(1),y.squeeze(1),torch.ones(output.shape[0]))\n",
    "        # 4. 誤差逆伝播\n",
    "        loss.backward()\n",
    "        # 5. パラメータ更新\n",
    "        optimizer.step()\n",
    "        # train_lossの取得\n",
    "        train_batch_loss.append(loss.item())\n",
    "        train_batch_eval.append(metric.item())\n",
    "        # avg_loss += loss.item()/len(train_loader)\n",
    "    \n",
    "    # scheduler更新\n",
    "    # scheduler.step(np.mean(train_batch_loss))\n",
    "        \n",
    "    return model, np.mean(train_batch_loss), np.mean(train_batch_eval)"
   ]
  },
  {
   "cell_type": "code",
   "execution_count": 36,
   "id": "53a9f0da-a021-40c0-86d9-171e521307a4",
   "metadata": {},
   "outputs": [],
   "source": [
    "def validate(model, test_loader):\n",
    "    # Test(val) loop ----------------------------\n",
    "    model.eval()  # 学習モードをオフ\n",
    "    test_batch_loss = []\n",
    "    test_batch_eval = []\n",
    "    with torch.no_grad():  # 勾配を計算なし\n",
    "        for x, y in test_loader:\n",
    "            x, y = x.to(device), y.to(device)\n",
    "            output = model(x)\n",
    "            loss   = criteria_loss(output, y)\n",
    "\n",
    "            # For NN tensor shape\n",
    "            # metric = criteria_eval(output,y,torch.ones(output.shape[0]))\n",
    "            # For conv tensor shape\n",
    "            metric = criteria_eval(output.squeeze(1),y.squeeze(1),torch.ones(output.shape[0]))\n",
    "            \n",
    "            test_batch_loss.append(loss.item())\n",
    "            test_batch_eval.append(metric.item())\n",
    "    return model, np.mean(test_batch_loss), np.mean(test_batch_eval)"
   ]
  },
  {
   "cell_type": "code",
   "execution_count": 37,
   "id": "af53f905-8fec-480d-8e24-cda49524aaa8",
   "metadata": {},
   "outputs": [],
   "source": [
    "def fit(model,epochs,dataloader_train,dataloader_valid):\n",
    "    # 訓練の実行\n",
    "    train_losses,train_metrics = [],[]\n",
    "    valid_losses,valid_metrics = [],[]\n",
    "    for epoch in range(epochs):\n",
    "        model, train_loss, train_metric = train(model, dataloader_train)\n",
    "        _    , valid_loss, valid_metric = validate(model, dataloader_valid)\n",
    "        train_losses.append(train_loss)\n",
    "        valid_losses.append(valid_loss)\n",
    "        train_metrics.append(train_metric)\n",
    "        valid_metrics.append(valid_metric)\n",
    "        \n",
    "        if epoch%1 == 0: #epochの表示間隔調整\n",
    "            print(f'Epoch[{epoch+1}/{epochs}] train_loss: [{np.round(train_loss,6)}] metric: [{np.round(train_metric,3)}])')\n",
    "            print(f'Epoch[{epoch+1}/{epochs}] valid_loss: [{np.round(valid_loss,6)}] metric: [{np.round(valid_metric,3)}])')\n",
    "            print()\n",
    "    # 学習履歴\n",
    "    history = {\n",
    "        \"train\":{\"loss\":train_losses,\"metric\":train_metrics},\n",
    "        \"valid\":{\"loss\":valid_losses,\"metric\":valid_metrics}\n",
    "    }\n",
    "    return model,history"
   ]
  },
  {
   "cell_type": "code",
   "execution_count": 38,
   "id": "02360308-a4e4-4aab-8001-cae86718f80d",
   "metadata": {},
   "outputs": [
    {
     "name": "stdout",
     "output_type": "stream",
     "text": [
      "Epoch[1/2] train_loss: [0.086658] metric: [0.424])\n",
      "Epoch[1/2] valid_loss: [0.031396] metric: [0.156])\n",
      "\n",
      "Epoch[2/2] train_loss: [0.020963] metric: [0.104])\n",
      "Epoch[2/2] valid_loss: [0.015196] metric: [0.075])\n",
      "\n"
     ]
    }
   ],
   "source": [
    "adapter,history = fit(\n",
    "    adapter,\n",
    "    epochs=2,\n",
    "    dataloader_train=dataloader_train,\n",
    "    dataloader_valid=dataloader_valid,\n",
    ")"
   ]
  },
  {
   "cell_type": "code",
   "execution_count": 42,
   "id": "a4a6a40a-47d3-4109-b29d-e085308b4569",
   "metadata": {},
   "outputs": [
    {
     "data": {
      "image/png": "[encoded data removed]",
      "text/plain": [
       "<Figure size 600x300 with 1 Axes>"
      ]
     },
     "metadata": {},
     "output_type": "display_data"
    }
   ],
   "source": [
    "# 学習曲線 (損失関数値)\n",
    "plt.figure(figsize=(6,3))#figsize=(8,6))\n",
    "plt.plot(history[\"train\"][\"loss\"],label='train')\n",
    "plt.plot(history[\"valid\"][\"loss\"],label='valid')\n",
    "plt.title('Loss')\n",
    "plt.xticks()#size=14)\n",
    "plt.yticks()#size=14)\n",
    "plt.legend()#fontsize=14)\n",
    "plt.show()"
   ]
  },
  {
   "cell_type": "code",
   "execution_count": 506,
   "id": "833917ec-7c5b-4c87-9006-46f6196a604e",
   "metadata": {},
   "outputs": [
    {
     "data": {
      "image/png": "[encoded data removed]",
      "text/plain": [
       "<Figure size 600x300 with 1 Axes>"
      ]
     },
     "metadata": {},
     "output_type": "display_data"
    }
   ],
   "source": [
    "# 学習曲線 (精度)\n",
    "plt.figure(figsize=(6,3))#figsize=(8,6))\n",
    "plt.plot([1-v for v in history[\"train\"][\"metric\"]],label='train')\n",
    "plt.plot([1-v for v in history[\"valid\"][\"metric\"]],label='valid')\n",
    "plt.title('Cosine')\n",
    "plt.xticks()#size=14)\n",
    "plt.yticks()#size=14)\n",
    "plt.legend()#fontsize=14)\n",
    "plt.show()"
   ]
  },
  {
   "cell_type": "markdown",
   "id": "c7ec629c-e0d9-400a-b5c6-90258025773a",
   "metadata": {},
   "source": [
    "# Attach the Adapter"
   ]
  },
  {
   "cell_type": "code",
   "execution_count": 51,
   "id": "f0061b19-e3de-4bac-9cb4-f6c878f82de6",
   "metadata": {},
   "outputs": [],
   "source": [
    "# 推論モード\n",
    "adapter.eval()\n",
    "\n",
    "# Adapter付きモデル\n",
    "embedding_adapter_model = OpenAIEmbeddingsWithAdapter(\n",
    "    model = embedding_model,\n",
    "    adapter = adapter\n",
    ")"
   ]
  },
  {
   "cell_type": "markdown",
   "id": "17b5cc71-ce23-4211-8d5b-1f59662d9413",
   "metadata": {},
   "source": [
    "# Evaluation"
   ]
  },
  {
   "cell_type": "code",
   "execution_count": 52,
   "id": "adb3253c-c93a-45c2-84da-51a4ba12a72f",
   "metadata": {},
   "outputs": [],
   "source": [
    "# DBの読み込み\n",
    "faiss_db = FAISS.load_local(\n",
    "    \"index/Abema/DB00-Original\",\n",
    "    embedding_adapter_model,\n",
    "    allow_dangerous_deserialization=True\n",
    ")"
   ]
  },
  {
   "cell_type": "code",
   "execution_count": 53,
   "id": "7aa3d3aa-e5d6-4bb5-ab2e-2a497446be18",
   "metadata": {},
   "outputs": [
    {
     "name": "stderr",
     "output_type": "stream",
     "text": [
      "100%|█████████████████████████████████████████| 100/100 [00:29<00:00,  3.35it/s]\n"
     ]
    }
   ],
   "source": [
    "# 評価\n",
    "df_ret_finetuned = execute_evaluation(faiss_db,df_test,DOC_NUM=len(df_ref))"
   ]
  },
  {
   "cell_type": "code",
   "execution_count": 54,
   "id": "8842b6c5-8198-49fa-9a86-150635fe05a2",
   "metadata": {},
   "outputs": [
    {
     "data": {
      "text/html": [
       "<div>\n",
       "<style scoped>\n",
       "    .dataframe tbody tr th:only-of-type {\n",
       "        vertical-align: middle;\n",
       "    }\n",
       "\n",
       "    .dataframe tbody tr th {\n",
       "        vertical-align: top;\n",
       "    }\n",
       "\n",
       "    .dataframe thead th {\n",
       "        text-align: right;\n",
       "    }\n",
       "</style>\n",
       "<table border=\"1\" class=\"dataframe\">\n",
       "  <thead>\n",
       "    <tr style=\"text-align: right;\">\n",
       "      <th></th>\n",
       "      <th>Recall@1</th>\n",
       "      <th>Recall@3</th>\n",
       "      <th>Recall@5</th>\n",
       "      <th>Recall@10</th>\n",
       "      <th>Recall@20</th>\n",
       "      <th>Recall@30</th>\n",
       "    </tr>\n",
       "  </thead>\n",
       "  <tbody>\n",
       "    <tr>\n",
       "      <th>0</th>\n",
       "      <td>0.28</td>\n",
       "      <td>0.47</td>\n",
       "      <td>0.53</td>\n",
       "      <td>0.69</td>\n",
       "      <td>0.79</td>\n",
       "      <td>0.84</td>\n",
       "    </tr>\n",
       "  </tbody>\n",
       "</table>\n",
       "</div>"
      ],
      "text/plain": [
       "   Recall@1  Recall@3  Recall@5  Recall@10  Recall@20  Recall@30\n",
       "0      0.28      0.47      0.53       0.69       0.79       0.84"
      ]
     },
     "execution_count": 54,
     "metadata": {},
     "output_type": "execute_result"
    }
   ],
   "source": [
    "# ConvAE_v2 + MSE & cosine\n",
    "df_ret_finetuned_table = pd.DataFrame({\n",
    "    \"Recall@1\":[df_ret_finetuned.recall_at_1],\n",
    "    \"Recall@3\":[df_ret_finetuned.recall_at_3],\n",
    "    \"Recall@5\":[df_ret_finetuned.recall_at_5],\n",
    "    \"Recall@10\":[df_ret_finetuned.recall_at_10],\n",
    "    \"Recall@20\":[df_ret_finetuned.recall_at_20],\n",
    "    \"Recall@30\":[df_ret_finetuned.recall_at_30],\n",
    "    \n",
    "})\n",
    "df_ret_finetuned_table"
   ]
  },
  {
   "cell_type": "code",
   "execution_count": 434,
   "id": "fcec6347-21a9-4238-ad64-6344d3375fe7",
   "metadata": {},
   "outputs": [
    {
     "data": {
      "text/html": [
       "<div>\n",
       "<style scoped>\n",
       "    .dataframe tbody tr th:only-of-type {\n",
       "        vertical-align: middle;\n",
       "    }\n",
       "\n",
       "    .dataframe tbody tr th {\n",
       "        vertical-align: top;\n",
       "    }\n",
       "\n",
       "    .dataframe thead th {\n",
       "        text-align: right;\n",
       "    }\n",
       "</style>\n",
       "<table border=\"1\" class=\"dataframe\">\n",
       "  <thead>\n",
       "    <tr style=\"text-align: right;\">\n",
       "      <th></th>\n",
       "      <th>Recall@1</th>\n",
       "      <th>Recall@3</th>\n",
       "      <th>Recall@5</th>\n",
       "      <th>Recall@10</th>\n",
       "      <th>Recall@20</th>\n",
       "      <th>Recall@30</th>\n",
       "    </tr>\n",
       "  </thead>\n",
       "  <tbody>\n",
       "    <tr>\n",
       "      <th>0</th>\n",
       "      <td>0.42</td>\n",
       "      <td>0.64</td>\n",
       "      <td>0.7</td>\n",
       "      <td>0.86</td>\n",
       "      <td>0.91</td>\n",
       "      <td>0.93</td>\n",
       "    </tr>\n",
       "  </tbody>\n",
       "</table>\n",
       "</div>"
      ],
      "text/plain": [
       "   Recall@1  Recall@3  Recall@5  Recall@10  Recall@20  Recall@30\n",
       "0      0.42      0.64       0.7       0.86       0.91       0.93"
      ]
     },
     "execution_count": 434,
     "metadata": {},
     "output_type": "execute_result"
    }
   ],
   "source": [
    "# ConvAE + MSE & cosine\n",
    "df_ret_finetuned_table = pd.DataFrame({\n",
    "    \"Recall@1\":[df_ret_finetuned.recall_at_1],\n",
    "    \"Recall@3\":[df_ret_finetuned.recall_at_3],\n",
    "    \"Recall@5\":[df_ret_finetuned.recall_at_5],\n",
    "    \"Recall@10\":[df_ret_finetuned.recall_at_10],\n",
    "    \"Recall@20\":[df_ret_finetuned.recall_at_20],\n",
    "    \"Recall@30\":[df_ret_finetuned.recall_at_30],\n",
    "    \n",
    "})\n",
    "df_ret_finetuned_table"
   ]
  },
  {
   "cell_type": "code",
   "execution_count": 55,
   "id": "6e48e9f9-c7f5-43aa-924e-746e13a07d84",
   "metadata": {},
   "outputs": [
    {
     "data": {
      "text/plain": [
       "<All keys matched successfully>"
      ]
     },
     "execution_count": 55,
     "metadata": {},
     "output_type": "execute_result"
    }
   ],
   "source": [
    "# 学習済みモデルの保存・ロード\n",
    "path_saved_model = \"./adapter_Conv1dAutoencoder\"\n",
    "\n",
    "# モデルの保存\n",
    "torch.save(adapter.state_dict(), path_saved_model)\n",
    "\n",
    "# モデルのロード\n",
    "# adapter = Conv1dAutoencoder().to(device)\n",
    "# adapter.load_state_dict(torch.load(path_saved_model))"
   ]
  }
 ],
 "metadata": {
  "kernelspec": {
   "display_name": "Python 3 (ipykernel)",
   "language": "python",
   "name": "python3"
  },
  "language_info": {
   "codemirror_mode": {
    "name": "ipython",
    "version": 3
   },
   "file_extension": ".py",
   "mimetype": "text/x-python",
   "name": "python",
   "nbconvert_exporter": "python",
   "pygments_lexer": "ipython3",
   "version": "3.10.11"
  }
 },
 "nbformat": 4,
 "nbformat_minor": 5
}
